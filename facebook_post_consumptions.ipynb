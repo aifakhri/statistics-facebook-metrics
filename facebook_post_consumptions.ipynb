{
 "cells": [
  {
   "cell_type": "markdown",
   "id": "159f01d0-75d1-40a9-be31-34d49781ea5c",
   "metadata": {},
   "source": [
    "## **1. Load Libraries and Helper Function**"
   ]
  },
  {
   "cell_type": "code",
   "execution_count": 1,
   "id": "3e17e003-ca8a-4158-895e-51d8d5eaa017",
   "metadata": {},
   "outputs": [],
   "source": [
    "# Data Processing and Visualization Libraries\n",
    "import pandas as pd\n",
    "import numpy as np\n",
    "import seaborn as sns\n",
    "import matplotlib.pyplot as plt\n",
    "\n",
    "# Statistics libraries\n",
    "import statsmodels.api as sm\n",
    "from statsmodels.formula.api import ols\n",
    "from scipy.stats import ttest_ind"
   ]
  },
  {
   "cell_type": "code",
   "execution_count": 2,
   "id": "3ffd9ea3-f048-4efb-a04a-4890c3de9a59",
   "metadata": {},
   "outputs": [],
   "source": [
    "def find_outliers(var_name, data):\n",
    "    \"\"\"Function to find outliers in the dataset\n",
    "    \n",
    "    Params\n",
    "    ------\n",
    "    var_name : str\n",
    "        Name of the variable that should be analyzed\n",
    "    data : pd.DataFrame\n",
    "        Pandas dataframe for the variable\n",
    "\n",
    "    Return\n",
    "    ------\n",
    "    outliers : pd.DataFrame\n",
    "        outliers data in pandas DataFrame\n",
    "    \"\"\"\n",
    "\n",
    "    q1 = data[var_name].quantile(0.25)\n",
    "    q3 = data[var_name].quantile(0.75)\n",
    "    iqr = q3 - q1\n",
    "\n",
    "    lower_iqr = data[var_name] < q1 - 1.5*iqr\n",
    "    upper_iqr = data[var_name] > q3 + 1.5*iqr\n",
    "\n",
    "    outliers = data[lower_iqr | upper_iqr]\n",
    "    \n",
    "    return outliers"
   ]
  },
  {
   "cell_type": "code",
   "execution_count": 3,
   "id": "8ceb98a7-ca72-4933-b58a-a33f00802f7f",
   "metadata": {},
   "outputs": [],
   "source": [
    "def numerical_univariate(var_name, data) -> None:\n",
    "    \"\"\"Procedure for Building kdeplot and boxplot \n",
    "    along with other statistics information\n",
    "\n",
    "    Params\n",
    "    ------\n",
    "    var_name : str\n",
    "        Name of the variable that should be analyzed\n",
    "    data : pd.DataFrame\n",
    "        Pandas dataframe for the variable\n",
    "    \"\"\"\n",
    "\n",
    "    # Create Matplotlib sub-plot and figures\n",
    "    fig, axs = plt.subplots(ncols=2, figsize=(10, 4))\n",
    "\n",
    "    # Draw KDE plot with seaborn on the first axis\n",
    "    sns.kdeplot(x=var_name, data=data, ax=axs[0])\n",
    "\n",
    "    # Draw axvline for kde plot\n",
    "    axs[0].axvline(x=data[var_name].mean(),\n",
    "                   color=\"red\",\n",
    "                   ls=\"--\",\n",
    "                   label=f\"mean: {round(data[var_name].mean(), 3)}\")\n",
    "\n",
    "    # Draw Boxplot with seaborn on the second axis\n",
    "    sns.boxplot(x=var_name, data=data, ax=axs[1])\n",
    "    \n",
    "    # Get legend\n",
    "    axs[0].legend(loc=\"upper right\")\n",
    "\n",
    "    # Name each chart on the axis\n",
    "    axs[0].set_title(f\"KDE Plot for {var_name}\")\n",
    "    axs[1].set_title(f\"Box Plot for {var_name}\")\n",
    "\n",
    "    # Draw all graphs\n",
    "    plt.show()\n",
    "\n",
    "    # Defining Outliers\n",
    "    outliers = find_outliers(var_name, data)\n",
    "    n_outliers = len(outliers)\n",
    "    pct_outliers = round((n_outliers/len(data[var_name]))*100, 3)\n",
    "\n",
    "    # Final Output\n",
    "    print(f\"-------Statistics of {var_name}-------\\n\"\n",
    "          f\"Median   : {data[var_name].median()}\\n\"\n",
    "          f\"Max      : {data[var_name].max()}\\n\"\n",
    "          f\"Min      : {data[var_name].min()}\\n\"\n",
    "          f\"q1       : {data[var_name].quantile(0.25)}\\n\"\n",
    "          f\"q3       : {data[var_name].quantile(0.75)}\\n\"\n",
    "          f\"outliers : {n_outliers} ({pct_outliers}%)\\n\")"
   ]
  },
  {
   "cell_type": "code",
   "execution_count": 4,
   "id": "c0bcc66b-7073-4674-87f2-29f076c15a9d",
   "metadata": {},
   "outputs": [],
   "source": [
    "def numerical_bivariate(input_var, target_var, data) -> None:\n",
    "    \"\"\"This procedure is to find visualize the respond variable\n",
    "    with the independent variables.\n",
    "    \n",
    "    Parameters\n",
    "    ----------\n",
    "    input_var : str\n",
    "        The name of the feature\n",
    "\n",
    "    target_var : str\n",
    "        The name of the target variable\n",
    "\n",
    "    data : pd.DataFrame\n",
    "        The dataset\n",
    "    \"\"\"\n",
    "    \n",
    "    # Setup matplotlib subplot and axes\n",
    "    fig, axs = plt.subplots(ncols=2, figsize=(13, 5))\n",
    "\n",
    "    # Visualize kdeplot for the first axis\n",
    "    sns.kdeplot(x=input_var, \n",
    "                y=target_var,\n",
    "                cmap=\"Blues\",\n",
    "                cbar=True,\n",
    "                shade=True,\n",
    "                data=data, \n",
    "                ax=axs[0])\n",
    "\n",
    "    # Visualize scatterplot for the second axis\n",
    "    sns.scatterplot(x=input_var, \n",
    "                    y=target_var, \n",
    "                    data=data, \n",
    "                    ax=axs[1])\n",
    "\n",
    "    # Modify graph name\n",
    "    axs[0].set_title(f\"{input_var} Kde Plot\")\n",
    "    axs[1].set_title(f\"{input_var} Scatterplot\")\n",
    "    \n",
    "    plt.show()"
   ]
  },
  {
   "cell_type": "code",
   "execution_count": 5,
   "id": "6fb7aa76-7eeb-4b2c-9e9e-ef72da1c5788",
   "metadata": {},
   "outputs": [],
   "source": [
    "def categorical_univariate(var_name, data) -> None:\n",
    "    \"\"\"This is a procedure to generate univariate analysis\n",
    "    for categorical variable\n",
    "\n",
    "    Parameters\n",
    "    ----------\n",
    "    var_name : str\n",
    "        The name of the categorical feature\n",
    "    \n",
    "    data : pd.DataFrame\n",
    "        The dataset\n",
    "    \"\"\"\n",
    "\n",
    "    # Draw matplotlib figure\n",
    "    fig, ax = plt.subplots(figsize=(7, 5))\n",
    "    \n",
    "    # Visualize seaborn countplot\n",
    "    sns.countplot(x=var_name, data=data, ax=ax)\n",
    "\n",
    "    # Add number of count on each label\n",
    "    ax.bar_label(container=ax.containers[0])\n",
    "\n",
    "    plt.show()"
   ]
  },
  {
   "cell_type": "code",
   "execution_count": 6,
   "id": "c1accf54-470c-4d88-994b-9e77bbc8f632",
   "metadata": {},
   "outputs": [],
   "source": [
    "def categorical_bivariate(input_var, target_var, data):\n",
    "    \"\"\"This is a procedure to generate univariate analysis\n",
    "    for categorical variable\n",
    "\n",
    "    Parameters\n",
    "    ----------\n",
    "    input_var : str\n",
    "        The name of the categorical feature\n",
    "\n",
    "    target_var : str\n",
    "        The name of the target variable\n",
    "\n",
    "    data : pd.DataFrame\n",
    "        The dataset\n",
    "    \"\"\"\n",
    "\n",
    "    # Draw matplotib figure and axes\n",
    "    fig, ax = plt.subplots(ncols=2, figsize=(13, 5))\n",
    "\n",
    "    # Draw target_var boxplot per input_var\n",
    "    sns.boxplot(x=input_var, \n",
    "                y=target_var, \n",
    "                data=data, \n",
    "                ax=ax[0])\n",
    "\n",
    "    # Draw KDE of target var per input var\n",
    "    sns.kdeplot(x=target_var,\n",
    "                hue=input_var,\n",
    "                data=data)\n",
    "\n",
    "    plt.show()\n",
    "\n",
    "    # Defining Outliers\n",
    "    for i in data[input_var].unique().tolist():\n",
    "        filter_data = data[data[input_var] == i]\n",
    "\n",
    "        outliers = find_outliers(var_name=target_var, data=filter_data)\n",
    "        n_outliers = len(outliers)\n",
    "        pct_outliers = round((n_outliers/len(filter_data[target_var]))*100, 3)\n",
    "\n",
    "        # Final Output\n",
    "        print(f\"----Statistics of {target_var} when {input_var} is {i}----\\n\"\n",
    "              f\"Median   : {filter_data[target_var].median()}\\n\"\n",
    "              f\"Max      : {filter_data[target_var].max()}\\n\"\n",
    "              f\"Min      : {filter_data[target_var].min()}\\n\"\n",
    "              f\"q1       : {filter_data[target_var].quantile(0.25)}\\n\"\n",
    "              f\"q3       : {filter_data[target_var].quantile(0.75)}\\n\"\n",
    "              f\"outliers : {n_outliers} ({pct_outliers}%)\\n\")"
   ]
  },
  {
   "cell_type": "code",
   "execution_count": 7,
   "id": "d2cec8d4-08ee-413d-a554-6749fd3f8996",
   "metadata": {},
   "outputs": [],
   "source": [
    "def regression_result(model_fit):\n",
    "    \"\"\"Getting the fitted linear regression model\n",
    "\n",
    "    Params\n",
    "    ------\n",
    "    model_fit : statsmodels.formula.api.ols.fit\n",
    "        the fitted linear regression model results\n",
    "\n",
    "    Return\n",
    "    ------\n",
    "    df : pd.DataFrame\n",
    "        Pandas dataframe conists of regression coefficient and\n",
    "        standard_error\n",
    "    \"\"\"\n",
    "\n",
    "    coef = model_fit.params\n",
    "    std_error = model_fit.bse\n",
    "\n",
    "    df = pd.DataFrame(data=np.transpose([coef, std_error]),\n",
    "                      index=coef.index,\n",
    "                      columns=[\"coef\", \"std_error\"])\n",
    "\n",
    "    return df"
   ]
  },
  {
   "cell_type": "code",
   "execution_count": 8,
   "id": "2a5e87de-54fd-4a53-88be-f22f9da16895",
   "metadata": {},
   "outputs": [],
   "source": [
    "def multiple_regression_line(target_var,\n",
    "                             predictors,\n",
    "                             data,\n",
    "                             model_fit) -> None:\n",
    "    \"\"\"This procedure to plot multiple regression line\n",
    "\n",
    "    So, far the predictors can only accept numerical and binary predictors.\n",
    "    Also, only 2 predictors are accepted to be processed.\n",
    "\n",
    "    Parameters\n",
    "    ----------\n",
    "    target_var : str\n",
    "        The name of the target variable\n",
    "\n",
    "    model_fit : statsmodels.formula.api.ols.fit\n",
    "        the fitted linear regression model results\n",
    "\n",
    "    predictors : list\n",
    "        The list of predictors\n",
    "\n",
    "    data : pd.DataFrame\n",
    "        The dataset\n",
    "\n",
    "    Returns\n",
    "    -------\n",
    "    fitted_values : list\n",
    "        list of valus that was been fitted with regression equation\n",
    "    \"\"\"\n",
    "\n",
    "    # Setup visualization parameter\n",
    "    color = {0: \"b\", 1: \"g\"}\n",
    "    markers = {0: \"x\", 1: \".\"}\n",
    "    linestyles = {0: \"--\", 1: \"-\"}\n",
    "\n",
    "    # Setup the data\n",
    "    df = data.copy()\n",
    "\n",
    "    # Get the regression model data\n",
    "    results = regression_result(model_fit=model_fit)\n",
    "\n",
    "    # Generate Linear Regression Equation\n",
    "    # 1. Load the numerical data\n",
    "    x_domain = np.linspace(np.min(df[predictors[0]]), \n",
    "                       np.max(df[predictors[0]]),\n",
    "                       len(data))\n",
    "\n",
    "    # Use the fitted model coefficient for each\n",
    "    b0 = results.loc[\"Intercept\"][\"coef\"]\n",
    "    b1 = results.loc[predictors[0]][\"coef\"]\n",
    "    b2 = results.loc[predictors[1]][\"coef\"]\n",
    "\n",
    "    # Generate Multivaraite Regression Equation\n",
    "    fitted_values = [b0 + b1*x_domain + b2*i for i in range(2)]\n",
    "\n",
    "    fig, axs = plt.subplots(ncols=3, figsize=(20, 7))\n",
    "\n",
    "    for i in range(len(axs)):\n",
    "        if i == 2:\n",
    "            # Drawing Regrssion line in a single plot\n",
    "            for j in range(2):\n",
    "                axs[i].scatter(df[df[predictors[1]]==j][predictors[0]], \n",
    "                               df[data[predictors[1]]==j][target_var], \n",
    "                               color = color[j], \n",
    "                               marker = markers[j])\n",
    "                axs[i].plot(x_domain, fitted_values[0], \n",
    "                            c = color[j], \n",
    "                            label = f\"Fitted line (paid={j})\", \n",
    "                            linestyle = linestyles[j])\n",
    "\n",
    "                # Modifying plot informaition\n",
    "                axs[i].legend(loc=\"upper left\")\n",
    "                axs[i].set_ylabel(f\"{target_var}\")\n",
    "                axs[i].set_xlabel(f\"{predictors[0]}\")\n",
    "                axs[i].set_title(\"Regression line for paid 1 and 0\")\n",
    "        else:\n",
    "            # Drawing regression line for each paid variable\n",
    "            axs[i].scatter(df[df[predictors[1]] == i][predictors[0]],\n",
    "                           df[df[predictors[1]] == i][target_var],\n",
    "                           marker=markers[i],\n",
    "                           color=color[i])\n",
    "\n",
    "            axs[i].plot(x_domain, \n",
    "                        fitted_values[i], \n",
    "                        label=f\"fitted line (paid={i})\", \n",
    "                        linestyle=linestyles[i],\n",
    "                        c=color[i])\n",
    "\n",
    "        # Modify Axes 0\n",
    "        axs[i].legend(loc=\"upper left\")\n",
    "        axs[i].set_ylabel(f\"{target_var}\")\n",
    "        axs[i].set_xlabel(f\"{predictors[0]}\")\n",
    "        axs[i].set_title(f\"Regression Line with Paid is {i}\")\n",
    "    \n",
    "    plt.suptitle(\"Data and Fitted Regression Line with Interaction\")\n",
    "    plt.show()\n",
    "\n",
    "    return fitted_values"
   ]
  },
  {
   "cell_type": "code",
   "execution_count": 9,
   "id": "d4794464-5007-4e24-ad0e-a47197ffddc5",
   "metadata": {},
   "outputs": [],
   "source": [
    "def multi_regression_interaction(target_var,\n",
    "                                 predictors,\n",
    "                                 data,\n",
    "                                 model_fit) -> None:\n",
    "    \"\"\"This is a procedure to draw linear regression with interaction\n",
    "\n",
    "    The procedures only accepts 2 variables.\n",
    "\n",
    "    Parameters\n",
    "    ----------\n",
    "    target_var : str\n",
    "        The name of the target variable\n",
    "\n",
    "    model_fit : statsmodels.formula.api.ols.fit\n",
    "        the fitted linear regression model results\n",
    "\n",
    "    predictors : list\n",
    "        The list of predictors\n",
    "\n",
    "    data : pd.DataFrame \n",
    "        The dataset\n",
    "\n",
    "    Returns\n",
    "    -------\n",
    "    fitted_values : list\n",
    "        list of valus that was been fitted with regression equation\n",
    "    \"\"\"\n",
    "\n",
    "    # Setup visualization parameter\n",
    "    color = {0: \"b\", 1: \"g\"}\n",
    "    markers = {0: \"x\", 1: \".\"}\n",
    "    linestyles = {0: \"--\", 1: \"-\"}\n",
    "\n",
    "    # Copy data\n",
    "    df = data.copy()\n",
    "    \n",
    "    # Setup Regression Coefficient\n",
    "    b0 = results.loc[\"Intercept\"][\"coef\"]\n",
    "    b1 = results.loc[predictors[0]][\"coef\"]\n",
    "    b2 = results.loc[predictors[1]][\"coef\"]\n",
    "    b3 = results.loc[predictors[2]][\"coef\"]\n",
    "\n",
    "    # Load the numerical data\n",
    "    x_domain = np.linspace(np.min(df[predictors[0]]), \n",
    "                           np.max(df[predictors[0]]), \n",
    "                           len(data))\n",
    "    \n",
    "    fitted_values = [b0+b1*x_domain+b2*i+b3*i*x_domain for i in range(2)]\n",
    "\n",
    "\n",
    "    # Plotting the graph\n",
    "    fig, ax = plt.subplots(figsize=(9, 6))\n",
    "\n",
    "    for i in range(2):\n",
    "        ax.scatter(df[df[predictors[1]] == i][predictors[0]],\n",
    "                    df[df[predictors[1]] == i][response],\n",
    "                    marker=markers[i],\n",
    "                    color=color[i])\n",
    "\n",
    "    # plot two fitter line\n",
    "    for i in range(2):\n",
    "        ax.plot(x_domain, \n",
    "                fitted_values[i], \n",
    "                label=f\"fitted line (paid={i})\", \n",
    "                linestyle=linestyles[i], \n",
    "                c=color[i])\n",
    "\n",
    "    # Add legends and labels\n",
    "    plt.legend()\n",
    "    plt.ylabel(f\"{response}\")\n",
    "    plt.xlabel(f\"{predictors[0]}\")\n",
    "    plt.title(\"Data and fitted regression line\")\n",
    "\n",
    "    plt.show()\n",
    "\n",
    "    return fitted_values[0]"
   ]
  },
  {
   "cell_type": "code",
   "execution_count": 10,
   "id": "cbe3cfb7-59e8-4311-9fa5-16ca26a89a9b",
   "metadata": {},
   "outputs": [],
   "source": [
    "def residual_plot(fit_model) -> None:\n",
    "    \"\"\"Drawing the residual plot\n",
    "\n",
    "    Params\n",
    "    ------\n",
    "    fit_model : statsmodels.formula.api.ols.fit\n",
    "        The fitted regression model from statsmodel ols module\n",
    "    \"\"\"\n",
    "\n",
    "    # Get the residual values\n",
    "    fitted_values = fit_model.fittedvalues\n",
    "    residual = fit_model.resid\n",
    "    \n",
    "    # Plotting matplotlib subplit\n",
    "    fig, ax = plt.subplots(figsize=(9, 5))\n",
    "    \n",
    "    # Plotting scatter plot on the axes 1\n",
    "    ax.scatter(x=fitted_values, \n",
    "                   y=residual, \n",
    "                   marker=\".\", \n",
    "                   c=\"k\")\n",
    "\n",
    "    # Plot the axhline at 0\n",
    "    ax.axhline([0])\n",
    "    \n",
    "    # Modify the graph\n",
    "    ax.set_title(\"Residual vs Predicted Values\")\n",
    "    ax.set_xlabel(\"Predicted values\")\n",
    "    ax.set_ylabel(\"Residual\")\n",
    "\n",
    "    plt.show()"
   ]
  },
  {
   "cell_type": "markdown",
   "id": "ad52379a-cd7d-4fb7-a48e-3261367fa9ec",
   "metadata": {},
   "source": [
    "## **2. Project Objectives**"
   ]
  },
  {
   "cell_type": "markdown",
   "id": "909feda6-bdd7-465b-8da2-e8fb2abde8ea",
   "metadata": {},
   "source": [
    "In this study we would like to understand the impact of the number of likes of a brand page’s and whether their posts use Facebook Ads to promote their post to gain more user to consume their posts.\n",
    "\n",
    "With that in mind, this study would have the following objectives:\n",
    "1. Testing the assumption whether a high number of likes on the brands’ page would impact users to consume posts.\n",
    "2. Testing the assumption whether using Facebook Ads (paying Facebook) would generate more user consumption of a post.\n",
    "3. Investigating the relationship between the total likes of the total likes of a brand page and whether their post is using Facebook Ads or not.\n",
    "4. Building a regression model to predict post consumptions based on the company’s page total likes and whether the post is using Facebook Ads.\n",
    "\n",
    "\n"
   ]
  },
  {
   "cell_type": "markdown",
   "id": "6def2ddd-1597-4601-8319-c2f6ef427f42",
   "metadata": {},
   "source": [
    "## **3. Load Data & Basic Checking**"
   ]
  },
  {
   "cell_type": "code",
   "execution_count": 11,
   "id": "a3b6eaaf-b91f-4de4-b10d-67cdee0af394",
   "metadata": {},
   "outputs": [],
   "source": [
    "# If you look at the raw data, the CSV delimiter (separator) is ';'\n",
    "# By defualt the delimiter for CSV in pandas are commas, hence we need to change it\n",
    "\n",
    "facebook_df = pd.read_csv(\"dataset_Facebook.csv\", delimiter=\";\")"
   ]
  },
  {
   "cell_type": "code",
   "execution_count": 12,
   "id": "f704355f-c589-454c-a724-3dcd0cdbbe2d",
   "metadata": {},
   "outputs": [
    {
     "data": {
      "text/html": [
       "<div>\n",
       "<style scoped>\n",
       "    .dataframe tbody tr th:only-of-type {\n",
       "        vertical-align: middle;\n",
       "    }\n",
       "\n",
       "    .dataframe tbody tr th {\n",
       "        vertical-align: top;\n",
       "    }\n",
       "\n",
       "    .dataframe thead th {\n",
       "        text-align: right;\n",
       "    }\n",
       "</style>\n",
       "<table border=\"1\" class=\"dataframe\">\n",
       "  <thead>\n",
       "    <tr style=\"text-align: right;\">\n",
       "      <th></th>\n",
       "      <th>Page total likes</th>\n",
       "      <th>Type</th>\n",
       "      <th>Category</th>\n",
       "      <th>Post Month</th>\n",
       "      <th>Post Weekday</th>\n",
       "      <th>Post Hour</th>\n",
       "      <th>Paid</th>\n",
       "      <th>Lifetime Post Total Reach</th>\n",
       "      <th>Lifetime Post Total Impressions</th>\n",
       "      <th>Lifetime Engaged Users</th>\n",
       "      <th>Lifetime Post Consumers</th>\n",
       "      <th>Lifetime Post Consumptions</th>\n",
       "      <th>Lifetime Post Impressions by people who have liked your Page</th>\n",
       "      <th>Lifetime Post reach by people who like your Page</th>\n",
       "      <th>Lifetime People who have liked your Page and engaged with your post</th>\n",
       "      <th>comment</th>\n",
       "      <th>like</th>\n",
       "      <th>share</th>\n",
       "      <th>Total Interactions</th>\n",
       "    </tr>\n",
       "  </thead>\n",
       "  <tbody>\n",
       "    <tr>\n",
       "      <th>0</th>\n",
       "      <td>139441</td>\n",
       "      <td>Photo</td>\n",
       "      <td>2</td>\n",
       "      <td>12</td>\n",
       "      <td>4</td>\n",
       "      <td>3</td>\n",
       "      <td>0.0</td>\n",
       "      <td>2752</td>\n",
       "      <td>5091</td>\n",
       "      <td>178</td>\n",
       "      <td>109</td>\n",
       "      <td>159</td>\n",
       "      <td>3078</td>\n",
       "      <td>1640</td>\n",
       "      <td>119</td>\n",
       "      <td>4</td>\n",
       "      <td>79.0</td>\n",
       "      <td>17.0</td>\n",
       "      <td>100</td>\n",
       "    </tr>\n",
       "    <tr>\n",
       "      <th>1</th>\n",
       "      <td>139441</td>\n",
       "      <td>Status</td>\n",
       "      <td>2</td>\n",
       "      <td>12</td>\n",
       "      <td>3</td>\n",
       "      <td>10</td>\n",
       "      <td>0.0</td>\n",
       "      <td>10460</td>\n",
       "      <td>19057</td>\n",
       "      <td>1457</td>\n",
       "      <td>1361</td>\n",
       "      <td>1674</td>\n",
       "      <td>11710</td>\n",
       "      <td>6112</td>\n",
       "      <td>1108</td>\n",
       "      <td>5</td>\n",
       "      <td>130.0</td>\n",
       "      <td>29.0</td>\n",
       "      <td>164</td>\n",
       "    </tr>\n",
       "    <tr>\n",
       "      <th>2</th>\n",
       "      <td>139441</td>\n",
       "      <td>Photo</td>\n",
       "      <td>3</td>\n",
       "      <td>12</td>\n",
       "      <td>3</td>\n",
       "      <td>3</td>\n",
       "      <td>0.0</td>\n",
       "      <td>2413</td>\n",
       "      <td>4373</td>\n",
       "      <td>177</td>\n",
       "      <td>113</td>\n",
       "      <td>154</td>\n",
       "      <td>2812</td>\n",
       "      <td>1503</td>\n",
       "      <td>132</td>\n",
       "      <td>0</td>\n",
       "      <td>66.0</td>\n",
       "      <td>14.0</td>\n",
       "      <td>80</td>\n",
       "    </tr>\n",
       "    <tr>\n",
       "      <th>3</th>\n",
       "      <td>139441</td>\n",
       "      <td>Photo</td>\n",
       "      <td>2</td>\n",
       "      <td>12</td>\n",
       "      <td>2</td>\n",
       "      <td>10</td>\n",
       "      <td>1.0</td>\n",
       "      <td>50128</td>\n",
       "      <td>87991</td>\n",
       "      <td>2211</td>\n",
       "      <td>790</td>\n",
       "      <td>1119</td>\n",
       "      <td>61027</td>\n",
       "      <td>32048</td>\n",
       "      <td>1386</td>\n",
       "      <td>58</td>\n",
       "      <td>1572.0</td>\n",
       "      <td>147.0</td>\n",
       "      <td>1777</td>\n",
       "    </tr>\n",
       "    <tr>\n",
       "      <th>4</th>\n",
       "      <td>139441</td>\n",
       "      <td>Photo</td>\n",
       "      <td>2</td>\n",
       "      <td>12</td>\n",
       "      <td>2</td>\n",
       "      <td>3</td>\n",
       "      <td>0.0</td>\n",
       "      <td>7244</td>\n",
       "      <td>13594</td>\n",
       "      <td>671</td>\n",
       "      <td>410</td>\n",
       "      <td>580</td>\n",
       "      <td>6228</td>\n",
       "      <td>3200</td>\n",
       "      <td>396</td>\n",
       "      <td>19</td>\n",
       "      <td>325.0</td>\n",
       "      <td>49.0</td>\n",
       "      <td>393</td>\n",
       "    </tr>\n",
       "  </tbody>\n",
       "</table>\n",
       "</div>"
      ],
      "text/plain": [
       "   Page total likes    Type  Category  Post Month  Post Weekday  Post Hour  \\\n",
       "0            139441   Photo         2          12             4          3   \n",
       "1            139441  Status         2          12             3         10   \n",
       "2            139441   Photo         3          12             3          3   \n",
       "3            139441   Photo         2          12             2         10   \n",
       "4            139441   Photo         2          12             2          3   \n",
       "\n",
       "   Paid  Lifetime Post Total Reach  Lifetime Post Total Impressions  \\\n",
       "0   0.0                       2752                             5091   \n",
       "1   0.0                      10460                            19057   \n",
       "2   0.0                       2413                             4373   \n",
       "3   1.0                      50128                            87991   \n",
       "4   0.0                       7244                            13594   \n",
       "\n",
       "   Lifetime Engaged Users  Lifetime Post Consumers  \\\n",
       "0                     178                      109   \n",
       "1                    1457                     1361   \n",
       "2                     177                      113   \n",
       "3                    2211                      790   \n",
       "4                     671                      410   \n",
       "\n",
       "   Lifetime Post Consumptions  \\\n",
       "0                         159   \n",
       "1                        1674   \n",
       "2                         154   \n",
       "3                        1119   \n",
       "4                         580   \n",
       "\n",
       "   Lifetime Post Impressions by people who have liked your Page  \\\n",
       "0                                               3078              \n",
       "1                                              11710              \n",
       "2                                               2812              \n",
       "3                                              61027              \n",
       "4                                               6228              \n",
       "\n",
       "   Lifetime Post reach by people who like your Page  \\\n",
       "0                                              1640   \n",
       "1                                              6112   \n",
       "2                                              1503   \n",
       "3                                             32048   \n",
       "4                                              3200   \n",
       "\n",
       "   Lifetime People who have liked your Page and engaged with your post  \\\n",
       "0                                                119                     \n",
       "1                                               1108                     \n",
       "2                                                132                     \n",
       "3                                               1386                     \n",
       "4                                                396                     \n",
       "\n",
       "   comment    like  share  Total Interactions  \n",
       "0        4    79.0   17.0                 100  \n",
       "1        5   130.0   29.0                 164  \n",
       "2        0    66.0   14.0                  80  \n",
       "3       58  1572.0  147.0                1777  \n",
       "4       19   325.0   49.0                 393  "
      ]
     },
     "execution_count": 12,
     "metadata": {},
     "output_type": "execute_result"
    }
   ],
   "source": [
    "# Get a glimpse of the data\n",
    "facebook_df.head()"
   ]
  },
  {
   "cell_type": "markdown",
   "id": "bab7a60a-469c-45c4-9d54-cd504f8d736d",
   "metadata": {},
   "source": [
    "**NOTES** If we look at the column name of the data, there are spaces between words. This might cause us some problems in the future, hence the column name would be renamed later "
   ]
  },
  {
   "cell_type": "code",
   "execution_count": 13,
   "id": "3181a91d-f978-47c9-9ed5-e8966fef801b",
   "metadata": {},
   "outputs": [
    {
     "data": {
      "text/plain": [
       "(500, 19)"
      ]
     },
     "execution_count": 13,
     "metadata": {},
     "output_type": "execute_result"
    }
   ],
   "source": [
    "# Check the dataset shape\n",
    "facebook_df.shape"
   ]
  },
  {
   "cell_type": "code",
   "execution_count": 14,
   "id": "0354fc45-6d64-4b90-a3b8-5395de617934",
   "metadata": {},
   "outputs": [
    {
     "name": "stdout",
     "output_type": "stream",
     "text": [
      "<class 'pandas.core.frame.DataFrame'>\n",
      "RangeIndex: 500 entries, 0 to 499\n",
      "Data columns (total 19 columns):\n",
      " #   Column                                                               Non-Null Count  Dtype  \n",
      "---  ------                                                               --------------  -----  \n",
      " 0   Page total likes                                                     500 non-null    int64  \n",
      " 1   Type                                                                 500 non-null    object \n",
      " 2   Category                                                             500 non-null    int64  \n",
      " 3   Post Month                                                           500 non-null    int64  \n",
      " 4   Post Weekday                                                         500 non-null    int64  \n",
      " 5   Post Hour                                                            500 non-null    int64  \n",
      " 6   Paid                                                                 499 non-null    float64\n",
      " 7   Lifetime Post Total Reach                                            500 non-null    int64  \n",
      " 8   Lifetime Post Total Impressions                                      500 non-null    int64  \n",
      " 9   Lifetime Engaged Users                                               500 non-null    int64  \n",
      " 10  Lifetime Post Consumers                                              500 non-null    int64  \n",
      " 11  Lifetime Post Consumptions                                           500 non-null    int64  \n",
      " 12  Lifetime Post Impressions by people who have liked your Page         500 non-null    int64  \n",
      " 13  Lifetime Post reach by people who like your Page                     500 non-null    int64  \n",
      " 14  Lifetime People who have liked your Page and engaged with your post  500 non-null    int64  \n",
      " 15  comment                                                              500 non-null    int64  \n",
      " 16  like                                                                 499 non-null    float64\n",
      " 17  share                                                                496 non-null    float64\n",
      " 18  Total Interactions                                                   500 non-null    int64  \n",
      "dtypes: float64(3), int64(15), object(1)\n",
      "memory usage: 74.3+ KB\n"
     ]
    }
   ],
   "source": [
    "facebook_df.info()"
   ]
  },
  {
   "cell_type": "markdown",
   "id": "6c68a0cc-f224-4d40-aada-c90c48a42c48",
   "metadata": {},
   "source": [
    "**Variable of Interest**\n",
    "Not all the variables above would be use because the project objectives. Here are the variable that would be examined throughout this notebook:\n",
    "- **Independent Variables**\n",
    "    - *Page total likes:* Total number of people who have liked the company's Facebook page \n",
    "    - *Paid:* Whether the company paid Facebook to promote their post (using Facebook Ads)\n",
    "- **Response Variable**\n",
    "    - *Lifetime Post Consumption:* The number of clicks anywhere in the post"
   ]
  },
  {
   "cell_type": "markdown",
   "id": "bd7d571c-089f-4633-8008-238740992a60",
   "metadata": {},
   "source": [
    "## **4. Data Preparation**"
   ]
  },
  {
   "cell_type": "markdown",
   "id": "0bb6c532-707f-42d6-a0cf-9cab57b21374",
   "metadata": {},
   "source": [
    "### **4.1 Changing Column Name**\n",
    "As mentioned above the name of each column contains space, hence we would like to remove the space and replace it with underscore. Also the variable name would be changed to lower case for coding purposes"
   ]
  },
  {
   "cell_type": "code",
   "execution_count": 15,
   "id": "79dca486-16a7-406c-b24b-191e784f4cd0",
   "metadata": {},
   "outputs": [
    {
     "data": {
      "text/plain": [
       "{'Page total likes': 'page_total_likes',\n",
       " 'Type': 'type',\n",
       " 'Category': 'category',\n",
       " 'Post Month': 'post_month',\n",
       " 'Post Weekday': 'post_weekday',\n",
       " 'Post Hour': 'post_hour',\n",
       " 'Paid': 'paid',\n",
       " 'Lifetime Post Total Reach': 'lifetime_post_total_reach',\n",
       " 'Lifetime Post Total Impressions': 'lifetime_post_total_impressions',\n",
       " 'Lifetime Engaged Users': 'lifetime_engaged_users',\n",
       " 'Lifetime Post Consumers': 'lifetime_post_consumers',\n",
       " 'Lifetime Post Consumptions': 'lifetime_post_consumptions',\n",
       " 'Lifetime Post Impressions by people who have liked your Page': 'lifetime_post_impressions_by_people_who_have_liked_your_page',\n",
       " 'Lifetime Post reach by people who like your Page': 'lifetime_post_reach_by_people_who_like_your_page',\n",
       " 'Lifetime People who have liked your Page and engaged with your post': 'lifetime_people_who_have_liked_your_page_and_engaged_with_your_post',\n",
       " 'comment': 'comment',\n",
       " 'like': 'like',\n",
       " 'share': 'share',\n",
       " 'Total Interactions': 'total_interactions'}"
      ]
     },
     "execution_count": 15,
     "metadata": {},
     "output_type": "execute_result"
    }
   ],
   "source": [
    "# Get the current columns name\n",
    "current_columns = [ col for col in facebook_df.columns.tolist() ]\n",
    "\n",
    "# Prepare the new columns name\n",
    "new_columns = []\n",
    "for col in current_columns:\n",
    "    # split the column name by space and join with underscore \n",
    "    # and lowercasing it\n",
    "    col_name = \"_\".join(col.split(\" \")).lower()\n",
    "\n",
    "    # Append the new column name to the new columns\n",
    "    new_columns.append(col_name)\n",
    "\n",
    "# Mapped the current column name and the new column name into dictionary\n",
    "columns_map = dict(zip(current_columns, new_columns))\n",
    "columns_map"
   ]
  },
  {
   "cell_type": "code",
   "execution_count": 16,
   "id": "0f072777-f4d5-4d64-81ae-f221890f42df",
   "metadata": {},
   "outputs": [],
   "source": [
    "# Rename the column\n",
    "facebook_df.rename(columns_map, axis=1, inplace=True)"
   ]
  },
  {
   "cell_type": "code",
   "execution_count": 17,
   "id": "aaf10fcf-43fa-4b00-acbc-61864bbf7b66",
   "metadata": {},
   "outputs": [
    {
     "name": "stdout",
     "output_type": "stream",
     "text": [
      "<class 'pandas.core.frame.DataFrame'>\n",
      "RangeIndex: 500 entries, 0 to 499\n",
      "Data columns (total 19 columns):\n",
      " #   Column                                                               Non-Null Count  Dtype  \n",
      "---  ------                                                               --------------  -----  \n",
      " 0   page_total_likes                                                     500 non-null    int64  \n",
      " 1   type                                                                 500 non-null    object \n",
      " 2   category                                                             500 non-null    int64  \n",
      " 3   post_month                                                           500 non-null    int64  \n",
      " 4   post_weekday                                                         500 non-null    int64  \n",
      " 5   post_hour                                                            500 non-null    int64  \n",
      " 6   paid                                                                 499 non-null    float64\n",
      " 7   lifetime_post_total_reach                                            500 non-null    int64  \n",
      " 8   lifetime_post_total_impressions                                      500 non-null    int64  \n",
      " 9   lifetime_engaged_users                                               500 non-null    int64  \n",
      " 10  lifetime_post_consumers                                              500 non-null    int64  \n",
      " 11  lifetime_post_consumptions                                           500 non-null    int64  \n",
      " 12  lifetime_post_impressions_by_people_who_have_liked_your_page         500 non-null    int64  \n",
      " 13  lifetime_post_reach_by_people_who_like_your_page                     500 non-null    int64  \n",
      " 14  lifetime_people_who_have_liked_your_page_and_engaged_with_your_post  500 non-null    int64  \n",
      " 15  comment                                                              500 non-null    int64  \n",
      " 16  like                                                                 499 non-null    float64\n",
      " 17  share                                                                496 non-null    float64\n",
      " 18  total_interactions                                                   500 non-null    int64  \n",
      "dtypes: float64(3), int64(15), object(1)\n",
      "memory usage: 74.3+ KB\n"
     ]
    }
   ],
   "source": [
    "# Verify the column\n",
    "facebook_df.info()"
   ]
  },
  {
   "cell_type": "markdown",
   "id": "48435039-4e10-4347-ae79-df4b33be965b",
   "metadata": {},
   "source": [
    "### **4.2 Handling Missing Value**"
   ]
  },
  {
   "cell_type": "code",
   "execution_count": 18,
   "id": "0422ac5a-e95a-4e8d-8c22-44fc5211517e",
   "metadata": {},
   "outputs": [
    {
     "data": {
      "text/plain": [
       "page_total_likes                                                       0.0\n",
       "type                                                                   0.0\n",
       "category                                                               0.0\n",
       "post_month                                                             0.0\n",
       "post_weekday                                                           0.0\n",
       "post_hour                                                              0.0\n",
       "paid                                                                   0.2\n",
       "lifetime_post_total_reach                                              0.0\n",
       "lifetime_post_total_impressions                                        0.0\n",
       "lifetime_engaged_users                                                 0.0\n",
       "lifetime_post_consumers                                                0.0\n",
       "lifetime_post_consumptions                                             0.0\n",
       "lifetime_post_impressions_by_people_who_have_liked_your_page           0.0\n",
       "lifetime_post_reach_by_people_who_like_your_page                       0.0\n",
       "lifetime_people_who_have_liked_your_page_and_engaged_with_your_post    0.0\n",
       "comment                                                                0.0\n",
       "like                                                                   0.2\n",
       "share                                                                  0.8\n",
       "total_interactions                                                     0.0\n",
       "dtype: float64"
      ]
     },
     "execution_count": 18,
     "metadata": {},
     "output_type": "execute_result"
    }
   ],
   "source": [
    "# Checking missing value\n",
    "(facebook_df.isnull().sum()/facebook_df.shape[0])*100"
   ]
  },
  {
   "cell_type": "markdown",
   "id": "31ed6a30-9124-4c69-bc7b-59013949c459",
   "metadata": {},
   "source": [
    "Total missing values doesn't significant towards the entire dataset. Dropping these values would not likely cause bias in when modeling the regression."
   ]
  },
  {
   "cell_type": "code",
   "execution_count": 19,
   "id": "8b74af95-f61a-4964-8b0e-75b15be04ba6",
   "metadata": {},
   "outputs": [],
   "source": [
    "# Dropping Missing Value\n",
    "facebook_df.dropna(inplace=True)"
   ]
  },
  {
   "cell_type": "code",
   "execution_count": 20,
   "id": "98beea2d-903e-4c54-9f8f-b4ac3d42fc78",
   "metadata": {},
   "outputs": [
    {
     "data": {
      "text/plain": [
       "page_total_likes                                                       0.0\n",
       "type                                                                   0.0\n",
       "category                                                               0.0\n",
       "post_month                                                             0.0\n",
       "post_weekday                                                           0.0\n",
       "post_hour                                                              0.0\n",
       "paid                                                                   0.0\n",
       "lifetime_post_total_reach                                              0.0\n",
       "lifetime_post_total_impressions                                        0.0\n",
       "lifetime_engaged_users                                                 0.0\n",
       "lifetime_post_consumers                                                0.0\n",
       "lifetime_post_consumptions                                             0.0\n",
       "lifetime_post_impressions_by_people_who_have_liked_your_page           0.0\n",
       "lifetime_post_reach_by_people_who_like_your_page                       0.0\n",
       "lifetime_people_who_have_liked_your_page_and_engaged_with_your_post    0.0\n",
       "comment                                                                0.0\n",
       "like                                                                   0.0\n",
       "share                                                                  0.0\n",
       "total_interactions                                                     0.0\n",
       "dtype: float64"
      ]
     },
     "execution_count": 20,
     "metadata": {},
     "output_type": "execute_result"
    }
   ],
   "source": [
    "# Re-checking the missing value\n",
    "(facebook_df.isnull().sum()/facebook_df.shape[0])*100"
   ]
  },
  {
   "cell_type": "markdown",
   "id": "67fdf46a-7b5d-41eb-9970-98e78550ddc0",
   "metadata": {},
   "source": [
    "**Note** There is no longer missing values"
   ]
  },
  {
   "cell_type": "markdown",
   "id": "702288f7-b856-4f93-9767-679f367cc5ea",
   "metadata": {},
   "source": [
    "### **4.2 Checking Duplicates**"
   ]
  },
  {
   "cell_type": "code",
   "execution_count": 21,
   "id": "252b66e4-a6dd-4245-9f96-48cde0f9cb6f",
   "metadata": {},
   "outputs": [
    {
     "data": {
      "text/plain": [
       "0"
      ]
     },
     "execution_count": 21,
     "metadata": {},
     "output_type": "execute_result"
    }
   ],
   "source": [
    "facebook_df.duplicated().sum()"
   ]
  },
  {
   "cell_type": "code",
   "execution_count": 22,
   "id": "eb08cfb1-ec3f-4717-b198-1a1904dd0bfc",
   "metadata": {},
   "outputs": [
    {
     "data": {
      "text/html": [
       "<div>\n",
       "<style scoped>\n",
       "    .dataframe tbody tr th:only-of-type {\n",
       "        vertical-align: middle;\n",
       "    }\n",
       "\n",
       "    .dataframe tbody tr th {\n",
       "        vertical-align: top;\n",
       "    }\n",
       "\n",
       "    .dataframe thead th {\n",
       "        text-align: right;\n",
       "    }\n",
       "</style>\n",
       "<table border=\"1\" class=\"dataframe\">\n",
       "  <thead>\n",
       "    <tr style=\"text-align: right;\">\n",
       "      <th></th>\n",
       "      <th>page_total_likes</th>\n",
       "      <th>type</th>\n",
       "      <th>category</th>\n",
       "      <th>post_month</th>\n",
       "      <th>post_weekday</th>\n",
       "      <th>post_hour</th>\n",
       "      <th>paid</th>\n",
       "      <th>lifetime_post_total_reach</th>\n",
       "      <th>lifetime_post_total_impressions</th>\n",
       "      <th>lifetime_engaged_users</th>\n",
       "      <th>lifetime_post_consumers</th>\n",
       "      <th>lifetime_post_consumptions</th>\n",
       "      <th>lifetime_post_impressions_by_people_who_have_liked_your_page</th>\n",
       "      <th>lifetime_post_reach_by_people_who_like_your_page</th>\n",
       "      <th>lifetime_people_who_have_liked_your_page_and_engaged_with_your_post</th>\n",
       "      <th>comment</th>\n",
       "      <th>like</th>\n",
       "      <th>share</th>\n",
       "      <th>total_interactions</th>\n",
       "    </tr>\n",
       "  </thead>\n",
       "  <tbody>\n",
       "  </tbody>\n",
       "</table>\n",
       "</div>"
      ],
      "text/plain": [
       "Empty DataFrame\n",
       "Columns: [page_total_likes, type, category, post_month, post_weekday, post_hour, paid, lifetime_post_total_reach, lifetime_post_total_impressions, lifetime_engaged_users, lifetime_post_consumers, lifetime_post_consumptions, lifetime_post_impressions_by_people_who_have_liked_your_page, lifetime_post_reach_by_people_who_like_your_page, lifetime_people_who_have_liked_your_page_and_engaged_with_your_post, comment, like, share, total_interactions]\n",
       "Index: []"
      ]
     },
     "execution_count": 22,
     "metadata": {},
     "output_type": "execute_result"
    }
   ],
   "source": [
    "facebook_df[facebook_df.duplicated()]"
   ]
  },
  {
   "cell_type": "markdown",
   "id": "1080d464-525d-45d7-aafa-14ed371f17d9",
   "metadata": {},
   "source": [
    "**Note** There is no duplicate in the dataset"
   ]
  },
  {
   "cell_type": "markdown",
   "id": "521945ac-c101-49bd-b193-d9a56d1ee91a",
   "metadata": {},
   "source": [
    "## **5. Exploratory Data Analysis**"
   ]
  },
  {
   "cell_type": "markdown",
   "id": "baa0c4b0-a84e-4566-8b4e-7e04609da75e",
   "metadata": {},
   "source": [
    "### **5.1 Page Total Likes**"
   ]
  },
  {
   "cell_type": "code",
   "execution_count": 23,
   "id": "cf8f629c-bd3e-4d7f-a0fb-f1076970c89a",
   "metadata": {},
   "outputs": [
    {
     "data": {
      "image/png": "[encoded data removed]",
      "text/plain": [
       "<Figure size 720x288 with 2 Axes>"
      ]
     },
     "metadata": {
      "needs_background": "light"
     },
     "output_type": "display_data"
    },
    {
     "name": "stdout",
     "output_type": "stream",
     "text": [
      "-------Statistics of page_total_likes-------\n",
      "Median   : 129600.0\n",
      "Max      : 139441\n",
      "Min      : 81370\n",
      "q1       : 112324.0\n",
      "q3       : 136393.0\n",
      "outliers : 0 (0.0%)\n",
      "\n"
     ]
    }
   ],
   "source": [
    "# Univariate Analysis\n",
    "numerical_univariate(var_name=\"page_total_likes\",\n",
    "                     data=facebook_df)"
   ]
  },
  {
   "cell_type": "markdown",
   "id": "034ec031-f21b-4f9b-8f23-28c6d5ecebb0",
   "metadata": {},
   "source": [
    "**Summary**\n",
    "- The distribution is skewed positively (to the right)\n",
    "- There are no outliers in the data"
   ]
  },
  {
   "cell_type": "code",
   "execution_count": 24,
   "id": "c9386255-9e8d-409a-9aea-3910751a03fa",
   "metadata": {},
   "outputs": [
    {
     "data": {
      "image/png": "[encoded data removed]",
      "text/plain": [
       "<Figure size 936x360 with 3 Axes>"
      ]
     },
     "metadata": {
      "needs_background": "light"
     },
     "output_type": "display_data"
    }
   ],
   "source": [
    "# Bivariate Analysis\n",
    "numerical_bivariate(input_var=\"page_total_likes\",\n",
    "                    target_var=\"lifetime_post_consumptions\",\n",
    "                    data=facebook_df)"
   ]
  },
  {
   "cell_type": "markdown",
   "id": "4459f905-3601-40bd-b644-0e5d4e777526",
   "metadata": {},
   "source": [
    "**Summary**"
   ]
  },
  {
   "cell_type": "markdown",
   "id": "d150d69f-385e-4299-8710-84a0c043ef35",
   "metadata": {},
   "source": [
    "### **5.2 Paid**"
   ]
  },
  {
   "cell_type": "code",
   "execution_count": 25,
   "id": "faa979ba-7ee1-4565-99b3-84d8f47b1541",
   "metadata": {},
   "outputs": [
    {
     "data": {
      "image/png": "[encoded data removed]",
      "text/plain": [
       "<Figure size 504x360 with 1 Axes>"
      ]
     },
     "metadata": {
      "needs_background": "light"
     },
     "output_type": "display_data"
    }
   ],
   "source": [
    "# univariate analysis\n",
    "categorical_univariate(var_name=\"paid\",\n",
    "                       data=facebook_df)"
   ]
  },
  {
   "cell_type": "code",
   "execution_count": 26,
   "id": "f945ce51-02b6-44ac-a328-3f6e47ab28bc",
   "metadata": {},
   "outputs": [
    {
     "data": {
      "image/png": "[encoded data removed]",
      "text/plain": [
       "<Figure size 936x360 with 2 Axes>"
      ]
     },
     "metadata": {
      "needs_background": "light"
     },
     "output_type": "display_data"
    },
    {
     "name": "stdout",
     "output_type": "stream",
     "text": [
      "----Statistics of lifetime_post_consumptions when paid is 0.0----\n",
      "Median   : 837.0\n",
      "Max      : 14974\n",
      "Min      : 19\n",
      "q1       : 486.75\n",
      "q3       : 1425.5\n",
      "outliers : 33 (9.27%)\n",
      "\n",
      "----Statistics of lifetime_post_consumptions when paid is 1.0----\n",
      "Median   : 874.0\n",
      "Max      : 19779\n",
      "Min      : 9\n",
      "q1       : 597.5\n",
      "q3       : 1676.0\n",
      "outliers : 13 (9.353%)\n",
      "\n"
     ]
    }
   ],
   "source": [
    "# Bivariate Analysis\n",
    "categorical_bivariate(input_var=\"paid\",\n",
    "                      target_var=\"lifetime_post_consumptions\",\n",
    "                      data=facebook_df)"
   ]
  },
  {
   "cell_type": "markdown",
   "id": "0434f4bc-6fd7-476a-89c3-200447777e7e",
   "metadata": {},
   "source": [
    "**Summary**\n",
    "- The distribution of lifetime post consumptions for both paid or not are skewed negatively. \n",
    "- There are outliers for each lifetime post consumptions when paid variable is 0 or 1. The outliers are from the lifetime_post_consumptions."
   ]
  },
  {
   "cell_type": "markdown",
   "id": "4754664a-4c9e-4906-91e0-d351c9f60378",
   "metadata": {},
   "source": [
    "### **5.3 Lifetime Post Consumptions**"
   ]
  },
  {
   "cell_type": "code",
   "execution_count": 27,
   "id": "9ee10423-69ba-4494-8116-3bdc673addd4",
   "metadata": {},
   "outputs": [
    {
     "data": {
      "image/png": "[encoded data removed]",
      "text/plain": [
       "<Figure size 720x288 with 2 Axes>"
      ]
     },
     "metadata": {
      "needs_background": "light"
     },
     "output_type": "display_data"
    },
    {
     "name": "stdout",
     "output_type": "stream",
     "text": [
      "-------Statistics of lifetime_post_consumptions-------\n",
      "Median   : 861.0\n",
      "Max      : 19779\n",
      "Min      : 9\n",
      "q1       : 512.5\n",
      "q3       : 1479.0\n",
      "outliers : 48 (9.697%)\n",
      "\n"
     ]
    }
   ],
   "source": [
    "numerical_univariate(var_name=\"lifetime_post_consumptions\",\n",
    "                     data=facebook_df)"
   ]
  },
  {
   "cell_type": "markdown",
   "id": "737ee0e7-e2f9-4fb6-9417-67dccba0766a",
   "metadata": {},
   "source": [
    "**Notes** \n",
    "- The outliers are still under 10% of our total data. Dropping all of the outliers would be harsh. Instead we would like to drop only 5% of the outliers, which means dropping around 50% of the outliers data.\n",
    "- To select which outliers to drop we would investigate the distribution of the outlier data."
   ]
  },
  {
   "cell_type": "code",
   "execution_count": 28,
   "id": "b6aaab9e-1c6c-40fb-88a1-9ca85967eccd",
   "metadata": {},
   "outputs": [],
   "source": [
    "# Get outliers data\n",
    "outliers = find_outliers(var_name=\"lifetime_post_consumptions\",\n",
    "                         data=facebook_df)"
   ]
  },
  {
   "cell_type": "code",
   "execution_count": 29,
   "id": "cea1ac6e-c04d-4bfd-a25c-a0d1b6b24728",
   "metadata": {},
   "outputs": [
    {
     "data": {
      "image/png": "[encoded data removed]",
      "text/plain": [
       "<Figure size 720x288 with 2 Axes>"
      ]
     },
     "metadata": {
      "needs_background": "light"
     },
     "output_type": "display_data"
    },
    {
     "name": "stdout",
     "output_type": "stream",
     "text": [
      "-------Statistics of lifetime_post_consumptions-------\n",
      "Median   : 4573.0\n",
      "Max      : 19779\n",
      "Min      : 2969\n",
      "q1       : 3394.0\n",
      "q3       : 7458.75\n",
      "outliers : 3 (6.25%)\n",
      "\n"
     ]
    }
   ],
   "source": [
    "# Find the distributions of the outliers\n",
    "numerical_univariate(var_name=\"lifetime_post_consumptions\",\n",
    "                     data=outliers)"
   ]
  },
  {
   "cell_type": "markdown",
   "id": "2ecf18bd-6abd-4121-acc5-73ee3c88d94e",
   "metadata": {},
   "source": [
    "**Summary**\n",
    "- The outliers are also have outliers.\n",
    "- The outliers distribution is skewed to the right\n",
    "- From this distribution we would like to drop the outliers that have a value more than its median of the outliers data. Which means we dropped 50% of the total current outliers data"
   ]
  },
  {
   "cell_type": "markdown",
   "id": "0c7de00e-9f31-4f86-b699-d794b30fa1b4",
   "metadata": {},
   "source": [
    "#### **5.3.1 Dropping Outliers**"
   ]
  },
  {
   "cell_type": "code",
   "execution_count": 30,
   "id": "d4289132-55e5-4025-b5d3-d53a67a696a0",
   "metadata": {},
   "outputs": [],
   "source": [
    "# Get the the median\n",
    "med = outliers[\"lifetime_post_consumptions\"].median()\n",
    "\n",
    "# Get the dropped outliers data\n",
    "dropped_outliers = outliers[outliers[\"lifetime_post_consumptions\"] > med]"
   ]
  },
  {
   "cell_type": "code",
   "execution_count": 31,
   "id": "53aeb275-a991-4674-8462-214525552ffd",
   "metadata": {},
   "outputs": [],
   "source": [
    "# Dropping outliers on the whole data\n",
    "facebook_df.drop(dropped_outliers.index, inplace=True)"
   ]
  },
  {
   "cell_type": "code",
   "execution_count": 32,
   "id": "13625d9e-e1f0-4ca6-ad3f-dbcc1f8ab051",
   "metadata": {},
   "outputs": [
    {
     "data": {
      "image/png": "[encoded data removed]",
      "text/plain": [
       "<Figure size 720x288 with 2 Axes>"
      ]
     },
     "metadata": {
      "needs_background": "light"
     },
     "output_type": "display_data"
    },
    {
     "name": "stdout",
     "output_type": "stream",
     "text": [
      "-------Statistics of lifetime_post_consumptions-------\n",
      "Median   : 832.0\n",
      "Max      : 4550\n",
      "Min      : 9\n",
      "q1       : 499.0\n",
      "q3       : 1384.0\n",
      "outliers : 35 (7.431%)\n",
      "\n"
     ]
    }
   ],
   "source": [
    "# Verify the data distribution\n",
    "numerical_univariate(var_name=\"lifetime_post_consumptions\",\n",
    "                     data=facebook_df)"
   ]
  },
  {
   "cell_type": "markdown",
   "id": "4b692c02-fdb1-41fd-befa-b06514bf54fd",
   "metadata": {},
   "source": [
    "**Notes** Despite having removing the outliers we keep getting outliers, this is normal because the skewedness of our data is too steep, hence there would be more outliers coming until the mean is moving to the center."
   ]
  },
  {
   "cell_type": "markdown",
   "id": "cd7cdfb8-de22-4c67-a0e8-a7c36a5954c0",
   "metadata": {},
   "source": [
    "### **5.3 Correlation Analysis**"
   ]
  },
  {
   "cell_type": "code",
   "execution_count": 33,
   "id": "e1cbf271-62ee-48a4-abbf-848faa7637e3",
   "metadata": {},
   "outputs": [
    {
     "data": {
      "image/png": "[encoded data removed]",
      "text/plain": [
       "<Figure size 504x504 with 2 Axes>"
      ]
     },
     "metadata": {
      "needs_background": "light"
     },
     "output_type": "display_data"
    }
   ],
   "source": [
    "# Get correlation heatmap for the independent variables and the response only\n",
    "selected_var = [\"page_total_likes\",\n",
    "                \"paid\",\n",
    "                \"lifetime_post_consumptions\"]\n",
    "\n",
    "fig, ax = plt.subplots(figsize=(7, 7))\n",
    "\n",
    "sns.heatmap(facebook_df[selected_var].corr(), annot=True, data=facebook_df)\n",
    "plt.show()"
   ]
  },
  {
   "cell_type": "markdown",
   "id": "82628c68-a1ca-41cd-8903-88f71712489e",
   "metadata": {},
   "source": [
    "**Summary**\n",
    "- The correlation between independent variables and the target is weak\n",
    "- Also there is no sign of multicollinearity in between out independent variables."
   ]
  },
  {
   "cell_type": "markdown",
   "id": "d8db8a55-cbc1-4e2b-91e0-cc0b0003729f",
   "metadata": {},
   "source": [
    "## **6. Hypothesis Testing**"
   ]
  },
  {
   "cell_type": "markdown",
   "id": "f7168538-e79d-4a7b-8426-864c8f4bb73b",
   "metadata": {},
   "source": [
    "### **6.1 Hypothesis Testing: Page Total Likes**"
   ]
  },
  {
   "cell_type": "markdown",
   "id": "2eea99c8-7d66-4780-b139-88e84fc5f379",
   "metadata": {},
   "source": [
    "Based on the correlation analysis, we've found that the relationship between page total likes and the lifetime post consumptions is negative, which means the less page total likes, the lifetime post consumptions is also less. From this information we could derive a hypothesis as follows:\n",
    "\n",
    "> The average lifetime post consumption with page total likes less than its average would be lower than the average lifetime post consumption with page total likes higher that its average\n",
    "\n",
    "with the average total page likes is 123173.269, we could create the following notation:\n",
    "\n",
    "- $\\mu_A$: The average lifetime post consumption with page total likes less than 123173\n",
    "- $\\mu_B$: The average lifetime post consumption with page total likes greater than 123173\n",
    "\n",
    "Hence, we could develop the following null hypothesis\n",
    "$$H_0:\\mu_A \\le \\mu_B$$\n",
    "$$H_A:\\mu_A > \\mu_B$$\n",
    "\n",
    "From this we could define the test statistics:\n",
    "- the significance or ($\\alpha$) is 0.05\n",
    "- The statistic test that would be used is **right-tail** t-test statistics test because we don't know the standard deviation of the population."
   ]
  },
  {
   "cell_type": "code",
   "execution_count": 34,
   "id": "148efbbd-5cdf-4ba8-bd8f-29198bba7440",
   "metadata": {},
   "outputs": [],
   "source": [
    "# Define the alpha\n",
    "alpha = 0.05\n",
    "\n",
    "# Define the average of page total likes\n",
    "avg_page_total = facebook_df[\"page_total_likes\"].mean()\n",
    "\n",
    "# filter to group whether page total likes is less or greater than its average\n",
    "filter_a = facebook_df[\"page_total_likes\"] > avg_page_total\n",
    "filter_b = facebook_df[\"page_total_likes\"] < avg_page_total\n",
    "\n",
    "mu_a = facebook_df[filter_a][\"lifetime_post_consumptions\"]\n",
    "mu_b = facebook_df[filter_b][\"lifetime_post_consumptions\"]"
   ]
  },
  {
   "cell_type": "markdown",
   "id": "eb59d9fa-490d-4819-b505-6d37b11a71ae",
   "metadata": {},
   "source": [
    "before we run the test we need to check the variance between mu_a and mu_b"
   ]
  },
  {
   "cell_type": "code",
   "execution_count": 35,
   "id": "d1b30c5c-0528-41b5-afa0-69fea9634795",
   "metadata": {},
   "outputs": [
    {
     "name": "stdout",
     "output_type": "stream",
     "text": [
      "Variance mu_a:  682585.1869462798\n",
      "Variance mu_b:  684348.3827156507\n"
     ]
    }
   ],
   "source": [
    "print(\"Variance mu_a: \", np.var(mu_a))\n",
    "print(\"Variance mu_b: \", np.var(mu_b))"
   ]
  },
  {
   "cell_type": "markdown",
   "id": "0db4433d-28f4-4667-af07-b2edb6b0491a",
   "metadata": {},
   "source": [
    "**Notes** Tha variance is almost the same, hence we would use the standard two sample t-test"
   ]
  },
  {
   "cell_type": "code",
   "execution_count": 36,
   "id": "88187f8d-6fc4-4f1c-b4cc-5165c8ff6b49",
   "metadata": {},
   "outputs": [
    {
     "name": "stdout",
     "output_type": "stream",
     "text": [
      "t_stat:  -4.261240481718212\n",
      "p-value:  0.9999877085843641\n",
      "Failed to reject the Null Hyptohesis\n",
      "\n",
      "p-value is 0.9999877085843641 and alpha is 0.05\n"
     ]
    }
   ],
   "source": [
    "# Running the t-test statistics\n",
    "t_stat, p_value = ttest_ind(a=mu_a,\n",
    "                            b=mu_b,\n",
    "                            equal_var=True,\n",
    "                            random_state=123,\n",
    "                            alternative=\"greater\")\n",
    "\n",
    "print(\"t_stat: \", t_stat)\n",
    "print(\"p-value: \", p_value) \n",
    "\n",
    "if p_value > alpha:\n",
    "    print(\"Failed to reject the Null Hyptohesis\\n\")\n",
    "else:\n",
    "    print(\"Reject the Null Hypothesis\\n\")\n",
    "\n",
    "print(f\"p-value is {p_value} and alpha is {alpha}\")"
   ]
  },
  {
   "cell_type": "markdown",
   "id": "138e94d6-9607-43b7-9dd8-977038961b65",
   "metadata": {},
   "source": [
    "As we can see that p_value is greater than alpha which means we failed to reject the Null Hypothesis."
   ]
  },
  {
   "cell_type": "markdown",
   "id": "0c51621d-d679-49e4-a03d-66acca98bf25",
   "metadata": {},
   "source": [
    "### **6.2 Hypothesis Testing: Paid variable and the lifetime post consumptions**"
   ]
  },
  {
   "cell_type": "markdown",
   "id": "38b40ef6-5f71-455e-86f9-449b658e8ae7",
   "metadata": {},
   "source": [
    "When the company paid Facebook (using Facebook ads) to promote their posts the lifetime post consumption should be greater than the lifetime post consumption without facebook ads because by using Facebook Ads, companies can have more people see the posts which can lead to consumers clicking like, share, comment, etc.\n",
    "\n",
    "With that in mind, we could have the following hypothesis\n",
    "\n",
    "> the lifetime post consumption should be grater than the the lifetime post consumption without facebook ads because by using Facebook Ads\n",
    "\n",
    "From the assumption we could create the following notation:\n",
    "\n",
    "- $\\mu_A$: The average lifetime post consumption with that paid Facebook\n",
    "- $\\mu_B$: The average lifetime post consumption without paying Facebook\n",
    "\n",
    "Hence, we could develop the following null hypothesis\n",
    "$$H_0:\\mu_A \\ge \\mu_B$$\n",
    "$$H_A:\\mu_A < \\mu_B$$\n",
    "\n",
    "From this we could define the test statistics:\n",
    "- the significance or ($\\alpha$) is 0.05\n",
    "- The statistic test that would be used is **left-tail** t-test statistics test because we don't know the standard deviation of the population."
   ]
  },
  {
   "cell_type": "code",
   "execution_count": 37,
   "id": "ad837c31-3b7a-4946-989e-4c795c729b3a",
   "metadata": {},
   "outputs": [],
   "source": [
    "# define alpha\n",
    "alpha = 0.05\n",
    "\n",
    "# define filter\n",
    "# filter to group whether page total likes is less or greater than its average\n",
    "filter_a = facebook_df[\"paid\"] == 1\n",
    "filter_b = facebook_df[\"paid\"] == 0\n",
    "\n",
    "mu_a = facebook_df[filter_a][\"lifetime_post_consumptions\"]\n",
    "mu_b = facebook_df[filter_b][\"lifetime_post_consumptions\"]"
   ]
  },
  {
   "cell_type": "markdown",
   "id": "fd6d47ce-2599-4705-b47d-07953023ba25",
   "metadata": {},
   "source": [
    "before we run the test we need to check the variance between mu_a and mu_b"
   ]
  },
  {
   "cell_type": "code",
   "execution_count": 38,
   "id": "5275687c-b420-49f1-b873-d6113f37caa2",
   "metadata": {},
   "outputs": [
    {
     "name": "stdout",
     "output_type": "stream",
     "text": [
      "Variance mu_a:  568730.4110717773\n",
      "Variance mu_b:  762234.6071789816\n"
     ]
    }
   ],
   "source": [
    "print(\"Variance mu_a: \", np.var(mu_a))\n",
    "print(\"Variance mu_b: \", np.var(mu_b))"
   ]
  },
  {
   "cell_type": "markdown",
   "id": "cbd1d8f1-cb02-4e0f-abc8-5e545fda4141",
   "metadata": {},
   "source": [
    "The variance is not equal, hence we would use the Welch's t-test"
   ]
  },
  {
   "cell_type": "code",
   "execution_count": 39,
   "id": "b87e3338-cb06-4bf5-89f0-157d2a9f2395",
   "metadata": {},
   "outputs": [
    {
     "name": "stdout",
     "output_type": "stream",
     "text": [
      "t_stat:  0.1810100023739521\n",
      "p-value:  0.571781040150655\n",
      "Failed to reject the Null Hyptohesis\n",
      "\n",
      "p-value is 0.571781040150655 and alpha is 0.05\n"
     ]
    }
   ],
   "source": [
    "# Running the t-test statistics\n",
    "t_stat, p_value = ttest_ind(a=mu_a,\n",
    "                            b=mu_b,\n",
    "                            equal_var=True,\n",
    "                            random_state=123,\n",
    "                            alternative=\"less\")\n",
    "\n",
    "print(\"t_stat: \", t_stat)\n",
    "print(\"p-value: \", p_value) \n",
    "\n",
    "if p_value > alpha:\n",
    "    print(\"Failed to reject the Null Hyptohesis\\n\")\n",
    "else:\n",
    "    print(\"Reject the Null Hypothesis\\n\")\n",
    "\n",
    "print(f\"p-value is {p_value} and alpha is {alpha}\")"
   ]
  },
  {
   "cell_type": "markdown",
   "id": "58eb4493-90a2-4ccb-a9d2-548bd87dae0e",
   "metadata": {},
   "source": [
    "As we can see that p_value is greater than alpha which means we failed to reject the Null Hypothesis."
   ]
  },
  {
   "cell_type": "markdown",
   "id": "258b8319-2b08-44dc-ae8a-b62147945cc7",
   "metadata": {},
   "source": [
    "## **7. Modelling with Linear Regression**"
   ]
  },
  {
   "cell_type": "code",
   "execution_count": 40,
   "id": "1f0c6303-76aa-4cfe-ba51-b9236599f2d2",
   "metadata": {},
   "outputs": [],
   "source": [
    "fb_model = ols(\"lifetime_post_consumptions ~ page_total_likes + paid\",\n",
    "               data=facebook_df)\n",
    "fb_model_fit = fb_model.fit()"
   ]
  },
  {
   "cell_type": "code",
   "execution_count": 41,
   "id": "432bb44a-384d-47a4-bdd9-23d2ba89710b",
   "metadata": {},
   "outputs": [
    {
     "data": {
      "image/png": "[encoded data removed]",
      "text/plain": [
       "<Figure size 1440x504 with 3 Axes>"
      ]
     },
     "metadata": {
      "needs_background": "light"
     },
     "output_type": "display_data"
    }
   ],
   "source": [
    "# Setup data\n",
    "predictors = [\"page_total_likes\", \"paid\"]\n",
    "target_var = \"lifetime_post_consumptions\"\n",
    "\n",
    "fit_values = multiple_regression_line(target_var=target_var,\n",
    "                                      predictors=predictors,\n",
    "                                      data=facebook_df,\n",
    "                                      model_fit=fb_model_fit)"
   ]
  },
  {
   "cell_type": "markdown",
   "id": "42785129-1b59-4096-8659-aaab22527dcd",
   "metadata": {},
   "source": [
    "**Summary**\n",
    "- There is no substantial difference between slope at paid 0 and paid 1, hence we could interpret the coefficient directly. But we could directly interpret this regression model"
   ]
  },
  {
   "cell_type": "code",
   "execution_count": 42,
   "id": "34b61641-e438-4ace-a68c-59d2dacb8b34",
   "metadata": {},
   "outputs": [
    {
     "data": {
      "text/html": [
       "<div>\n",
       "<style scoped>\n",
       "    .dataframe tbody tr th:only-of-type {\n",
       "        vertical-align: middle;\n",
       "    }\n",
       "\n",
       "    .dataframe tbody tr th {\n",
       "        vertical-align: top;\n",
       "    }\n",
       "\n",
       "    .dataframe thead th {\n",
       "        text-align: right;\n",
       "    }\n",
       "</style>\n",
       "<table border=\"1\" class=\"dataframe\">\n",
       "  <thead>\n",
       "    <tr style=\"text-align: right;\">\n",
       "      <th></th>\n",
       "      <th>coef</th>\n",
       "      <th>std_error</th>\n",
       "    </tr>\n",
       "  </thead>\n",
       "  <tbody>\n",
       "    <tr>\n",
       "      <th>Intercept</th>\n",
       "      <td>2662.255340</td>\n",
       "      <td>288.994238</td>\n",
       "    </tr>\n",
       "    <tr>\n",
       "      <th>page_total_likes</th>\n",
       "      <td>-0.013023</td>\n",
       "      <td>0.002320</td>\n",
       "    </tr>\n",
       "    <tr>\n",
       "      <th>paid</th>\n",
       "      <td>20.280763</td>\n",
       "      <td>84.730478</td>\n",
       "    </tr>\n",
       "  </tbody>\n",
       "</table>\n",
       "</div>"
      ],
      "text/plain": [
       "                         coef   std_error\n",
       "Intercept         2662.255340  288.994238\n",
       "page_total_likes    -0.013023    0.002320\n",
       "paid                20.280763   84.730478"
      ]
     },
     "execution_count": 42,
     "metadata": {},
     "output_type": "execute_result"
    }
   ],
   "source": [
    "regression_result(fb_model_fit)"
   ]
  },
  {
   "cell_type": "markdown",
   "id": "e055c103-ecc6-4178-8de9-977c38fb09bb",
   "metadata": {},
   "source": [
    "**Coefficient Interpretation**\n",
    "$$\\text{lifetime_post_consumptions} = 2457.41 - 0.012\\text{page_total_likes} - 13\\text{paid}$$\n",
    "\n",
    "- The model predicts lifetime post consumptions that don't pay Facebook and has 0 page total likes is 2457.41\n",
    "- The coefficient of paid: If we compare the lifetime post consumptions that have the same page total_likes but differs whether the company's paid facebook or not, the expected difference of the lifetime post consumptions is 13\n",
    "- The coefficient of the page total likes: If we compare the lifetime post consumptions that paid facebook but differs 1 point in the paid total likes, the expected difference of lifetime post consumption is 0.012"
   ]
  },
  {
   "cell_type": "markdown",
   "id": "53decbe2-2180-4c59-a49e-aba12e76bd35",
   "metadata": {},
   "source": [
    "**Conclusion**\n",
    "- From this interpretation we could see that page total likes are contributing so little to the lifetime post consumption, although it would reduce its average. \n",
    "- On the other hand, whether the company is using Facebook or not the average of lifetime post consumption would reduce\n",
    "-  the company might want to increase their total page likes because if it won’t increase their lifetime post consumption might also reduce from time to time.\n"
   ]
  },
  {
   "cell_type": "markdown",
   "id": "85fcea54-9e64-4b79-80f6-21407c322182",
   "metadata": {},
   "source": [
    "### **7.1 Regression With Interaction**"
   ]
  },
  {
   "cell_type": "code",
   "execution_count": 43,
   "id": "03f6f471-5bbb-4020-a94d-2c0e81e6b506",
   "metadata": {},
   "outputs": [],
   "source": [
    "model_int = ols(\"lifetime_post_consumptions ~ page_total_likes + paid + paid:page_total_likes\",\n",
    "                data=facebook_df)\n",
    "model_int_fit = model_int.fit()"
   ]
  },
  {
   "cell_type": "code",
   "execution_count": 44,
   "id": "c0c63c8c-120f-447e-83f9-96e10d8a9d8e",
   "metadata": {},
   "outputs": [
    {
     "data": {
      "image/png": "[encoded data removed]",
      "text/plain": [
       "<Figure size 648x432 with 1 Axes>"
      ]
     },
     "metadata": {
      "needs_background": "light"
     },
     "output_type": "display_data"
    }
   ],
   "source": [
    "predictors = [\"page_total_likes\", \"paid\", \"paid:page_total_likes\"]\n",
    "response = \"lifetime_post_consumptions\"\n",
    "results = regression_result(model_fit=model_int_fit)\n",
    "\n",
    "fit_value = multi_regression_interaction(target_var=response,\n",
    "                                         predictors=predictors,\n",
    "                                         data=facebook_df,\n",
    "                                         model_fit=model_int_fit)"
   ]
  },
  {
   "cell_type": "markdown",
   "id": "d098d7d0-46b1-4c6f-adb3-e18cbc14dc60",
   "metadata": {},
   "source": [
    "**Summary**\n",
    "There is a slight difference in slope, which we can't see when we are not using interaction"
   ]
  },
  {
   "cell_type": "code",
   "execution_count": 45,
   "id": "d26517e1-f7c0-434e-9f68-332c3ea8cb2e",
   "metadata": {},
   "outputs": [
    {
     "data": {
      "text/html": [
       "<div>\n",
       "<style scoped>\n",
       "    .dataframe tbody tr th:only-of-type {\n",
       "        vertical-align: middle;\n",
       "    }\n",
       "\n",
       "    .dataframe tbody tr th {\n",
       "        vertical-align: top;\n",
       "    }\n",
       "\n",
       "    .dataframe thead th {\n",
       "        text-align: right;\n",
       "    }\n",
       "</style>\n",
       "<table border=\"1\" class=\"dataframe\">\n",
       "  <thead>\n",
       "    <tr style=\"text-align: right;\">\n",
       "      <th></th>\n",
       "      <th>coef</th>\n",
       "      <th>std_error</th>\n",
       "    </tr>\n",
       "  </thead>\n",
       "  <tbody>\n",
       "    <tr>\n",
       "      <th>Intercept</th>\n",
       "      <td>2583.036763</td>\n",
       "      <td>331.758848</td>\n",
       "    </tr>\n",
       "    <tr>\n",
       "      <th>page_total_likes</th>\n",
       "      <td>-0.012380</td>\n",
       "      <td>0.002671</td>\n",
       "    </tr>\n",
       "    <tr>\n",
       "      <th>paid</th>\n",
       "      <td>345.244567</td>\n",
       "      <td>672.012869</td>\n",
       "    </tr>\n",
       "    <tr>\n",
       "      <th>paid:page_total_likes</th>\n",
       "      <td>-0.002634</td>\n",
       "      <td>0.005404</td>\n",
       "    </tr>\n",
       "  </tbody>\n",
       "</table>\n",
       "</div>"
      ],
      "text/plain": [
       "                              coef   std_error\n",
       "Intercept              2583.036763  331.758848\n",
       "page_total_likes         -0.012380    0.002671\n",
       "paid                    345.244567  672.012869\n",
       "paid:page_total_likes    -0.002634    0.005404"
      ]
     },
     "execution_count": 45,
     "metadata": {},
     "output_type": "execute_result"
    }
   ],
   "source": [
    "regression_result(model_int_fit)"
   ]
  },
  {
   "cell_type": "markdown",
   "id": "c996e5d5-6185-45b1-8fb7-2ae78f36ad98",
   "metadata": {},
   "source": [
    "$$\\text{lifetime_post_consumptions} = 2342.98 - 0.011\\text{page_total_likes} + 464.12\\text{paid} - 0.004\\text{paid*page_total_likes}$$"
   ]
  },
  {
   "cell_type": "markdown",
   "id": "f36e045e-bc2c-4efd-9282-3fc2332fef37",
   "metadata": {},
   "source": [
    "**Interpretation**\n",
    "$$\\text{paid}=0, \\text{lifetime_post_consumptions} = 2342.98 + 0.011\\text{paid}$$\n",
    "- The estimated difference between lifetime_post_consumptions that is not paid Facebook but differ 1 point in page_total_likes is 0.011\n",
    "\n",
    "$$\\text{paid}=1, \\text{lifetime_post_consumptions} = 2807.1 + 0.015\\text{paid}$$\n",
    "- The estimated difference between lifetime_post_consumptions that is using paid Facebook but differ 1 point in page_total_likes is 0.015\n"
   ]
  },
  {
   "cell_type": "markdown",
   "id": "a25f167b-0bd3-4fb4-96a3-541ae5752eb5",
   "metadata": {},
   "source": [
    "**Conclusion**\n",
    "there is no significant difference whether the company pays Facebook or not to promote their campaign towards the post consumption"
   ]
  },
  {
   "cell_type": "markdown",
   "id": "65a5da6f-4281-46ef-8eeb-447a4ac35d1a",
   "metadata": {},
   "source": [
    "### **7.2 Evaluation**"
   ]
  },
  {
   "cell_type": "markdown",
   "id": "497f416a-fd2a-47ac-ab69-3ce28c0190d4",
   "metadata": {},
   "source": [
    "### **7.2.1 Evaluating Model without Interaction**"
   ]
  },
  {
   "cell_type": "code",
   "execution_count": 46,
   "id": "61a9ef52-7916-43ce-8be6-27bf346c95ae",
   "metadata": {},
   "outputs": [
    {
     "data": {
      "image/png": "[encoded data removed]",
      "text/plain": [
       "<Figure size 648x360 with 1 Axes>"
      ]
     },
     "metadata": {
      "needs_background": "light"
     },
     "output_type": "display_data"
    }
   ],
   "source": [
    "residual_plot(fb_model_fit)"
   ]
  },
  {
   "cell_type": "code",
   "execution_count": 47,
   "id": "267cb772-dcbb-451b-918d-76dc65edf4e9",
   "metadata": {},
   "outputs": [
    {
     "data": {
      "text/plain": [
       "0.06313643873428232"
      ]
     },
     "execution_count": 47,
     "metadata": {},
     "output_type": "execute_result"
    }
   ],
   "source": [
    "fb_model_fit.rsquared"
   ]
  },
  {
   "cell_type": "code",
   "execution_count": 48,
   "id": "c22d9cef-2901-4393-9924-71c56b71c687",
   "metadata": {},
   "outputs": [
    {
     "data": {
      "image/png": "[encoded data removed]",
      "text/plain": [
       "<Figure size 648x360 with 1 Axes>"
      ]
     },
     "metadata": {
      "needs_background": "light"
     },
     "output_type": "display_data"
    }
   ],
   "source": [
    "residual_plot(model_int_fit)"
   ]
  },
  {
   "cell_type": "code",
   "execution_count": 49,
   "id": "3fb1c29c-0f32-4a20-b5ea-97142c98723b",
   "metadata": {},
   "outputs": [
    {
     "data": {
      "text/plain": [
       "0.06361289646753976"
      ]
     },
     "execution_count": 49,
     "metadata": {},
     "output_type": "execute_result"
    }
   ],
   "source": [
    "model_int_fit.rsquared"
   ]
  },
  {
   "cell_type": "markdown",
   "id": "504fc695-1a60-4043-a224-12c4e4d755e4",
   "metadata": {},
   "source": [
    "**Summary**\n",
    "- For both models (interaction and no interaction) The residual plot shows that the data is centered around the 0 line within 1 standard deviation. Although there is some data that is outside.\n",
    "- The R squared for the model without interaction and with interaction are around 0.063, showing that the model is pretty accurate\n"
   ]
  }
 ],
 "metadata": {
  "kernelspec": {
   "display_name": "Python 3 (ipykernel)",
   "language": "python",
   "name": "python3"
  },
  "language_info": {
   "codemirror_mode": {
    "name": "ipython",
    "version": 3
   },
   "file_extension": ".py",
   "mimetype": "text/x-python",
   "name": "python",
   "nbconvert_exporter": "python",
   "pygments_lexer": "ipython3",
   "version": "3.10.0"
  }
 },
 "nbformat": 4,
 "nbformat_minor": 5
}
